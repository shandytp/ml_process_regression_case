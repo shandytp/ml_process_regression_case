{
 "cells": [
  {
   "cell_type": "code",
   "execution_count": 19,
   "id": "53b49186",
   "metadata": {},
   "outputs": [],
   "source": [
    "from sklearn.linear_model import LinearRegression\n",
    "from sklearn.tree import DecisionTreeRegressor\n",
    "from sklearn.ensemble import RandomForestRegressor\n",
    "from sklearn.neighbors import KNeighborsRegressor\n",
    "\n",
    "from sklearn.metrics import mean_squared_error, mean_absolute_error, r2_score\n",
    "from sklearn.model_selection import RandomizedSearchCV\n",
    "\n",
    "from datetime import datetime\n",
    "import joblib\n",
    "import json\n",
    "from tqdm import tqdm\n",
    "import pandas as pd\n",
    "import numpy as np\n",
    "import matplotlib.pyplot as plt\n",
    "import copy \n",
    "import hashlib"
   ]
  },
  {
   "cell_type": "markdown",
   "id": "7307ddf2",
   "metadata": {},
   "source": [
    "### Load Dataset "
   ]
  },
  {
   "cell_type": "code",
   "execution_count": 20,
   "id": "bc575b31",
   "metadata": {},
   "outputs": [],
   "source": [
    "X_train = joblib.load(\"data/processed/X_train_new.pkl\")\n",
    "y_train = joblib.load(\"data/processed/y_train.pkl\")\n",
    "\n",
    "X_valid = joblib.load(\"data/processed/X_valid_new.pkl\")\n",
    "y_valid = joblib.load(\"data/processed/y_valid.pkl\")\n",
    "\n",
    "X_test = joblib.load(\"data/processed/X_test_new.pkl\")\n",
    "y_test = joblib.load(\"data/processed/y_test.pkl\")"
   ]
  },
  {
   "cell_type": "markdown",
   "id": "f4a67631",
   "metadata": {},
   "source": [
    "### Create Log Template "
   ]
  },
  {
   "cell_type": "code",
   "execution_count": 21,
   "id": "dd23fc46",
   "metadata": {},
   "outputs": [],
   "source": [
    "def time_stamp():\n",
    "    return datetime.now()"
   ]
  },
  {
   "cell_type": "code",
   "execution_count": 22,
   "id": "711bffa1",
   "metadata": {},
   "outputs": [],
   "source": [
    "def create_log_template():\n",
    "    logger = {\n",
    "        \"model_name\" : [],\n",
    "        \"model_uid\" : [],\n",
    "        \"training_time\" : [],\n",
    "        \"training_date\" : [],\n",
    "#         \"performance\" : [],\n",
    "        \"r2_score\" : [],\n",
    "        \"mse_score\": [],\n",
    "        \"mae_score\": [],\n",
    "        \"data_configurations\" : [],\n",
    "    }\n",
    "\n",
    "    return logger"
   ]
  },
  {
   "cell_type": "code",
   "execution_count": 23,
   "id": "83b2ff5f",
   "metadata": {},
   "outputs": [],
   "source": [
    "def training_log_updater(current_log, log_path):\n",
    "    current_log = current_log.copy()\n",
    "\n",
    "    try:\n",
    "        with open(log_path, \"r\") as file:\n",
    "            last_log = json.load(file)\n",
    "        file.close()\n",
    "    except FileNotFoundError as ffe:\n",
    "        with open(log_path, \"w\") as file:\n",
    "            file.write(\"[]\")\n",
    "        file.close()\n",
    "        with open(log_path, \"r\") as file:\n",
    "            last_log = json.load(file)\n",
    "        file.close()\n",
    "    \n",
    "    last_log.append(current_log)\n",
    "\n",
    "    with open(log_path, \"w\") as file:\n",
    "        json.dump(last_log, file)\n",
    "        file.close()\n",
    "\n",
    "    return last_log"
   ]
  },
  {
   "cell_type": "markdown",
   "id": "87a1cc85",
   "metadata": {},
   "source": [
    "### Training and Evaluation"
   ]
  },
  {
   "cell_type": "markdown",
   "id": "3aa11f7d",
   "metadata": {},
   "source": [
    "#### Create Model Object "
   ]
  },
  {
   "cell_type": "code",
   "execution_count": 24,
   "id": "ba04167a",
   "metadata": {},
   "outputs": [],
   "source": [
    "lr_vanilla = LinearRegression()\n",
    "dct_vanilla = DecisionTreeRegressor()\n",
    "rfr_vanilla = RandomForestRegressor()\n",
    "knn_vanilla = KNeighborsRegressor()"
   ]
  },
  {
   "cell_type": "code",
   "execution_count": 25,
   "id": "7a497480",
   "metadata": {},
   "outputs": [],
   "source": [
    "list_of_model = {\n",
    "    \"vanilla\" : [\n",
    "    { \"model_name\": lr_vanilla.__class__.__name__, \"model_object\": lr_vanilla, \"model_uid\": \"\"},\n",
    "    { \"model_name\": dct_vanilla.__class__.__name__, \"model_object\": dct_vanilla, \"model_uid\": \"\"},\n",
    "    { \"model_name\": rfr_vanilla.__class__.__name__, \"model_object\": rfr_vanilla, \"model_uid\": \"\"},\n",
    "    { \"model_name\": knn_vanilla.__class__.__name__, \"model_object\": knn_vanilla, \"model_uid\": \"\"},\n",
    "    ]\n",
    "}"
   ]
  },
  {
   "cell_type": "markdown",
   "id": "8301c1f3",
   "metadata": {},
   "source": [
    "#### Baseline Model "
   ]
  },
  {
   "cell_type": "code",
   "execution_count": 26,
   "id": "3382a95a",
   "metadata": {},
   "outputs": [
    {
     "name": "stdout",
     "output_type": "stream",
     "text": [
      "0.5287046241903901\n"
     ]
    }
   ],
   "source": [
    "baseline_model = np.mean(y_train)\n",
    "print(baseline_model)"
   ]
  },
  {
   "cell_type": "code",
   "execution_count": 27,
   "id": "407f5550",
   "metadata": {},
   "outputs": [
    {
     "name": "stdout",
     "output_type": "stream",
     "text": [
      "1.9716680463575895\n"
     ]
    }
   ],
   "source": [
    "baseline_mse = mean_squared_error(y_train, \n",
    "                                  np.ones(len(y_train)) * baseline_model)\n",
    "print(baseline_mse)"
   ]
  },
  {
   "cell_type": "markdown",
   "id": "33c0ee8d",
   "metadata": {},
   "source": [
    "#### Training Model "
   ]
  },
  {
   "cell_type": "code",
   "execution_count": 28,
   "id": "173008c4",
   "metadata": {},
   "outputs": [],
   "source": [
    "def train_eval_model(list_of_model, prefix_model_name, X_train, y_train, data_configuration_name, X_valid, y_valid, log_path):\n",
    "\n",
    "    list_of_model = copy.deepcopy(list_of_model)\n",
    "    logger = create_log_template()\n",
    "\n",
    "    for model in tqdm(list_of_model):    \n",
    "        model_name = prefix_model_name + \"-\" + model[\"model_name\"]\n",
    "\n",
    "        start_time = time_stamp()\n",
    "        model[\"model_object\"].fit(X_train, y_train)\n",
    "        finished_time = time_stamp()\n",
    "\n",
    "        elapsed_time = finished_time - start_time\n",
    "        elapsed_time = elapsed_time.total_seconds()\n",
    "\n",
    "        y_pred = model[\"model_object\"].predict(X_valid)\n",
    "        performance_r2 = r2_score(y_valid, y_pred)\n",
    "        performance_mse = mean_squared_error(y_valid, y_pred)\n",
    "        performance_mae = mean_absolute_error(y_valid, y_pred)\n",
    "\n",
    "        plain_id = str(start_time) + str(finished_time)\n",
    "        chiper_id = hashlib.md5(plain_id.encode()).hexdigest()\n",
    "\n",
    "        model[\"model_uid\"] = chiper_id\n",
    "\n",
    "        logger[\"model_name\"].append(model_name)\n",
    "        logger[\"model_uid\"].append(chiper_id)\n",
    "        logger[\"training_time\"].append(elapsed_time)\n",
    "        logger[\"training_date\"].append(str(start_time))\n",
    "#         logger[\"performance\"].append(performance)\n",
    "        logger[\"r2_score\"].append(performance_r2)\n",
    "        logger[\"mse_score\"].append(performance_mse)\n",
    "        logger[\"mae_score\"].append(performance_mae)\n",
    "        logger[\"data_configurations\"].append(data_configuration_name)\n",
    "\n",
    "    training_log = training_log_updater(logger, log_path)\n",
    "\n",
    "    return training_log, list_of_model"
   ]
  },
  {
   "cell_type": "code",
   "execution_count": 29,
   "id": "fe0b23a2",
   "metadata": {},
   "outputs": [
    {
     "name": "stderr",
     "output_type": "stream",
     "text": [
      "100%|█████████████████████████████████████████████| 4/4 [00:02<00:00,  1.81it/s]\n"
     ]
    }
   ],
   "source": [
    "training_log, list_of_model_vanilla = train_eval_model(\n",
    "    list_of_model[\"vanilla\"],\n",
    "    \"vanilla_model\",\n",
    "    X_train,\n",
    "    y_train,\n",
    "    \"vanilla\",\n",
    "    X_valid,\n",
    "    y_valid,\n",
    "    \"log/training_log.json\"\n",
    ")"
   ]
  },
  {
   "cell_type": "code",
   "execution_count": 30,
   "id": "e7853711",
   "metadata": {},
   "outputs": [],
   "source": [
    "list_of_model[\"vanilla\"] = copy.deepcopy(list_of_model_vanilla)"
   ]
  },
  {
   "cell_type": "markdown",
   "id": "2775e957",
   "metadata": {},
   "source": [
    "### Best performance "
   ]
  },
  {
   "cell_type": "code",
   "execution_count": 31,
   "id": "89bc393d",
   "metadata": {},
   "outputs": [],
   "source": [
    "def training_log_to_df(training_log):\n",
    "    training_res = pd.DataFrame()\n",
    "\n",
    "    for log in tqdm(training_log):\n",
    "        training_res = pd.concat([training_res, pd.DataFrame(log)])\n",
    "    \n",
    "    training_res.sort_values([\"r2_score\", \"training_time\"], ascending = [False, True], inplace = True)\n",
    "    training_res.reset_index(inplace = True, drop = True)\n",
    "    \n",
    "    return training_res"
   ]
  },
  {
   "cell_type": "code",
   "execution_count": 32,
   "id": "2e28c383",
   "metadata": {},
   "outputs": [
    {
     "name": "stderr",
     "output_type": "stream",
     "text": [
      "100%|████████████████████████████████████████████| 1/1 [00:00<00:00, 820.48it/s]\n"
     ]
    }
   ],
   "source": [
    "training_res = training_log_to_df(training_log)"
   ]
  },
  {
   "cell_type": "code",
   "execution_count": 33,
   "id": "b5cb5448",
   "metadata": {
    "scrolled": true
   },
   "outputs": [
    {
     "data": {
      "text/html": [
       "<div>\n",
       "<style scoped>\n",
       "    .dataframe tbody tr th:only-of-type {\n",
       "        vertical-align: middle;\n",
       "    }\n",
       "\n",
       "    .dataframe tbody tr th {\n",
       "        vertical-align: top;\n",
       "    }\n",
       "\n",
       "    .dataframe thead th {\n",
       "        text-align: right;\n",
       "    }\n",
       "</style>\n",
       "<table border=\"1\" class=\"dataframe\">\n",
       "  <thead>\n",
       "    <tr style=\"text-align: right;\">\n",
       "      <th></th>\n",
       "      <th>model_name</th>\n",
       "      <th>model_uid</th>\n",
       "      <th>training_time</th>\n",
       "      <th>training_date</th>\n",
       "      <th>r2_score</th>\n",
       "      <th>mse_score</th>\n",
       "      <th>mae_score</th>\n",
       "      <th>data_configurations</th>\n",
       "    </tr>\n",
       "  </thead>\n",
       "  <tbody>\n",
       "    <tr>\n",
       "      <th>0</th>\n",
       "      <td>vanilla_model-LinearRegression</td>\n",
       "      <td>70489a57b46e5e069ddb869646fd3aca</td>\n",
       "      <td>0.012005</td>\n",
       "      <td>2023-04-10 13:52:48.537645</td>\n",
       "      <td>0.999988</td>\n",
       "      <td>0.000027</td>\n",
       "      <td>0.002945</td>\n",
       "      <td>vanilla</td>\n",
       "    </tr>\n",
       "    <tr>\n",
       "      <th>1</th>\n",
       "      <td>vanilla_model-RandomForestRegressor</td>\n",
       "      <td>fdbd8574e6bf6519fe7767feba7ec0f8</td>\n",
       "      <td>2.084238</td>\n",
       "      <td>2023-04-10 13:52:48.600617</td>\n",
       "      <td>0.975385</td>\n",
       "      <td>0.054610</td>\n",
       "      <td>0.027902</td>\n",
       "      <td>vanilla</td>\n",
       "    </tr>\n",
       "    <tr>\n",
       "      <th>2</th>\n",
       "      <td>vanilla_model-DecisionTreeRegressor</td>\n",
       "      <td>86fc11e8f0a34bf01707010b9a36c254</td>\n",
       "      <td>0.043820</td>\n",
       "      <td>2023-04-10 13:52:48.554178</td>\n",
       "      <td>0.966616</td>\n",
       "      <td>0.074065</td>\n",
       "      <td>0.044936</td>\n",
       "      <td>vanilla</td>\n",
       "    </tr>\n",
       "    <tr>\n",
       "      <th>3</th>\n",
       "      <td>vanilla_model-KNeighborsRegressor</td>\n",
       "      <td>009768a97d92e3e7269fd9cc3b2346be</td>\n",
       "      <td>0.011252</td>\n",
       "      <td>2023-04-10 13:52:50.722792</td>\n",
       "      <td>0.965375</td>\n",
       "      <td>0.076820</td>\n",
       "      <td>0.055829</td>\n",
       "      <td>vanilla</td>\n",
       "    </tr>\n",
       "  </tbody>\n",
       "</table>\n",
       "</div>"
      ],
      "text/plain": [
       "                            model_name                         model_uid  \\\n",
       "0       vanilla_model-LinearRegression  70489a57b46e5e069ddb869646fd3aca   \n",
       "1  vanilla_model-RandomForestRegressor  fdbd8574e6bf6519fe7767feba7ec0f8   \n",
       "2  vanilla_model-DecisionTreeRegressor  86fc11e8f0a34bf01707010b9a36c254   \n",
       "3    vanilla_model-KNeighborsRegressor  009768a97d92e3e7269fd9cc3b2346be   \n",
       "\n",
       "   training_time               training_date  r2_score  mse_score  mae_score  \\\n",
       "0       0.012005  2023-04-10 13:52:48.537645  0.999988   0.000027   0.002945   \n",
       "1       2.084238  2023-04-10 13:52:48.600617  0.975385   0.054610   0.027902   \n",
       "2       0.043820  2023-04-10 13:52:48.554178  0.966616   0.074065   0.044936   \n",
       "3       0.011252  2023-04-10 13:52:50.722792  0.965375   0.076820   0.055829   \n",
       "\n",
       "  data_configurations  \n",
       "0             vanilla  \n",
       "1             vanilla  \n",
       "2             vanilla  \n",
       "3             vanilla  "
      ]
     },
     "execution_count": 33,
     "metadata": {},
     "output_type": "execute_result"
    }
   ],
   "source": [
    "training_res"
   ]
  },
  {
   "cell_type": "markdown",
   "id": "431bf2e7",
   "metadata": {},
   "source": [
    "#### Best Performance Model "
   ]
  },
  {
   "cell_type": "code",
   "execution_count": 34,
   "id": "67eb2ebd",
   "metadata": {},
   "outputs": [],
   "source": [
    "def get_best_model(training_log_df, list_of_model):\n",
    "    model_object = None\n",
    "\n",
    "    best_model_info = training_log_df.sort_values([\"r2_score\", \"training_time\"], ascending = [False, True]).iloc[0]\n",
    "    \n",
    "    for configuration_data in list_of_model:\n",
    "        for model_data in list_of_model[configuration_data]:\n",
    "            if model_data[\"model_uid\"] == best_model_info[\"model_uid\"]:\n",
    "                model_object = model_data[\"model_object\"]\n",
    "                break\n",
    "    \n",
    "    if model_object == None:\n",
    "        raise RuntimeError(\"The best model not found in your list of model.\")\n",
    "    \n",
    "    return model_object\n",
    "    "
   ]
  },
  {
   "cell_type": "code",
   "execution_count": 35,
   "id": "d6f13c4e",
   "metadata": {},
   "outputs": [],
   "source": [
    "model = get_best_model(training_res, list_of_model)"
   ]
  },
  {
   "cell_type": "code",
   "execution_count": 36,
   "id": "acfbf3d5",
   "metadata": {},
   "outputs": [
    {
     "data": {
      "text/html": [
       "<style>#sk-container-id-1 {color: black;background-color: white;}#sk-container-id-1 pre{padding: 0;}#sk-container-id-1 div.sk-toggleable {background-color: white;}#sk-container-id-1 label.sk-toggleable__label {cursor: pointer;display: block;width: 100%;margin-bottom: 0;padding: 0.3em;box-sizing: border-box;text-align: center;}#sk-container-id-1 label.sk-toggleable__label-arrow:before {content: \"▸\";float: left;margin-right: 0.25em;color: #696969;}#sk-container-id-1 label.sk-toggleable__label-arrow:hover:before {color: black;}#sk-container-id-1 div.sk-estimator:hover label.sk-toggleable__label-arrow:before {color: black;}#sk-container-id-1 div.sk-toggleable__content {max-height: 0;max-width: 0;overflow: hidden;text-align: left;background-color: #f0f8ff;}#sk-container-id-1 div.sk-toggleable__content pre {margin: 0.2em;color: black;border-radius: 0.25em;background-color: #f0f8ff;}#sk-container-id-1 input.sk-toggleable__control:checked~div.sk-toggleable__content {max-height: 200px;max-width: 100%;overflow: auto;}#sk-container-id-1 input.sk-toggleable__control:checked~label.sk-toggleable__label-arrow:before {content: \"▾\";}#sk-container-id-1 div.sk-estimator input.sk-toggleable__control:checked~label.sk-toggleable__label {background-color: #d4ebff;}#sk-container-id-1 div.sk-label input.sk-toggleable__control:checked~label.sk-toggleable__label {background-color: #d4ebff;}#sk-container-id-1 input.sk-hidden--visually {border: 0;clip: rect(1px 1px 1px 1px);clip: rect(1px, 1px, 1px, 1px);height: 1px;margin: -1px;overflow: hidden;padding: 0;position: absolute;width: 1px;}#sk-container-id-1 div.sk-estimator {font-family: monospace;background-color: #f0f8ff;border: 1px dotted black;border-radius: 0.25em;box-sizing: border-box;margin-bottom: 0.5em;}#sk-container-id-1 div.sk-estimator:hover {background-color: #d4ebff;}#sk-container-id-1 div.sk-parallel-item::after {content: \"\";width: 100%;border-bottom: 1px solid gray;flex-grow: 1;}#sk-container-id-1 div.sk-label:hover label.sk-toggleable__label {background-color: #d4ebff;}#sk-container-id-1 div.sk-serial::before {content: \"\";position: absolute;border-left: 1px solid gray;box-sizing: border-box;top: 0;bottom: 0;left: 50%;z-index: 0;}#sk-container-id-1 div.sk-serial {display: flex;flex-direction: column;align-items: center;background-color: white;padding-right: 0.2em;padding-left: 0.2em;position: relative;}#sk-container-id-1 div.sk-item {position: relative;z-index: 1;}#sk-container-id-1 div.sk-parallel {display: flex;align-items: stretch;justify-content: center;background-color: white;position: relative;}#sk-container-id-1 div.sk-item::before, #sk-container-id-1 div.sk-parallel-item::before {content: \"\";position: absolute;border-left: 1px solid gray;box-sizing: border-box;top: 0;bottom: 0;left: 50%;z-index: -1;}#sk-container-id-1 div.sk-parallel-item {display: flex;flex-direction: column;z-index: 1;position: relative;background-color: white;}#sk-container-id-1 div.sk-parallel-item:first-child::after {align-self: flex-end;width: 50%;}#sk-container-id-1 div.sk-parallel-item:last-child::after {align-self: flex-start;width: 50%;}#sk-container-id-1 div.sk-parallel-item:only-child::after {width: 0;}#sk-container-id-1 div.sk-dashed-wrapped {border: 1px dashed gray;margin: 0 0.4em 0.5em 0.4em;box-sizing: border-box;padding-bottom: 0.4em;background-color: white;}#sk-container-id-1 div.sk-label label {font-family: monospace;font-weight: bold;display: inline-block;line-height: 1.2em;}#sk-container-id-1 div.sk-label-container {text-align: center;}#sk-container-id-1 div.sk-container {/* jupyter's `normalize.less` sets `[hidden] { display: none; }` but bootstrap.min.css set `[hidden] { display: none !important; }` so we also need the `!important` here to be able to override the default hidden behavior on the sphinx rendered scikit-learn.org. See: https://github.com/scikit-learn/scikit-learn/issues/21755 */display: inline-block !important;position: relative;}#sk-container-id-1 div.sk-text-repr-fallback {display: none;}</style><div id=\"sk-container-id-1\" class=\"sk-top-container\"><div class=\"sk-text-repr-fallback\"><pre>LinearRegression()</pre><b>In a Jupyter environment, please rerun this cell to show the HTML representation or trust the notebook. <br />On GitHub, the HTML representation is unable to render, please try loading this page with nbviewer.org.</b></div><div class=\"sk-container\" hidden><div class=\"sk-item\"><div class=\"sk-estimator sk-toggleable\"><input class=\"sk-toggleable__control sk-hidden--visually\" id=\"sk-estimator-id-1\" type=\"checkbox\" checked><label for=\"sk-estimator-id-1\" class=\"sk-toggleable__label sk-toggleable__label-arrow\">LinearRegression</label><div class=\"sk-toggleable__content\"><pre>LinearRegression()</pre></div></div></div></div></div>"
      ],
      "text/plain": [
       "LinearRegression()"
      ]
     },
     "execution_count": 36,
     "metadata": {},
     "output_type": "execute_result"
    }
   ],
   "source": [
    "model"
   ]
  },
  {
   "cell_type": "code",
   "execution_count": 38,
   "id": "8e2d2003",
   "metadata": {},
   "outputs": [
    {
     "data": {
      "text/plain": [
       "['model/best_vanilla_model.pkl']"
      ]
     },
     "execution_count": 38,
     "metadata": {},
     "output_type": "execute_result"
    }
   ],
   "source": [
    "joblib.dump(model, \"model/best_vanilla_model.pkl\")"
   ]
  },
  {
   "cell_type": "code",
   "execution_count": 39,
   "id": "baf114d5",
   "metadata": {},
   "outputs": [],
   "source": [
    "y_predd = model.predict(X_test)"
   ]
  },
  {
   "cell_type": "code",
   "execution_count": 40,
   "id": "4983ad44",
   "metadata": {},
   "outputs": [
    {
     "data": {
      "text/plain": [
       "array([0.07038663, 0.02037861, 0.12039022, ..., 0.31038247, 0.02037572,\n",
       "       1.24030943])"
      ]
     },
     "execution_count": 40,
     "metadata": {},
     "output_type": "execute_result"
    }
   ],
   "source": [
    "y_predd"
   ]
  },
  {
   "cell_type": "code",
   "execution_count": 41,
   "id": "875b0849",
   "metadata": {},
   "outputs": [],
   "source": [
    "data_res = {\"actual\": y_test,\n",
    "            \"pred\": y_predd.squeeze()}"
   ]
  },
  {
   "cell_type": "code",
   "execution_count": 43,
   "id": "572b07d8",
   "metadata": {},
   "outputs": [
    {
     "data": {
      "text/plain": [
       "2.7589220341679503e-05"
      ]
     },
     "execution_count": 43,
     "metadata": {},
     "output_type": "execute_result"
    }
   ],
   "source": [
    "mean_squared_error(y_test, y_predd)"
   ]
  },
  {
   "cell_type": "code",
   "execution_count": 44,
   "id": "cd0e37d1",
   "metadata": {},
   "outputs": [
    {
     "data": {
      "text/plain": [
       "0.0029793241269037126"
      ]
     },
     "execution_count": 44,
     "metadata": {},
     "output_type": "execute_result"
    }
   ],
   "source": [
    "mean_absolute_error(y_test, y_predd)"
   ]
  },
  {
   "cell_type": "code",
   "execution_count": 45,
   "id": "f6fbee8b",
   "metadata": {},
   "outputs": [
    {
     "data": {
      "text/plain": [
       "0.005252544177984561"
      ]
     },
     "execution_count": 45,
     "metadata": {},
     "output_type": "execute_result"
    }
   ],
   "source": [
    "np.sqrt(mean_squared_error(y_test, y_predd))"
   ]
  },
  {
   "cell_type": "code",
   "execution_count": 46,
   "id": "ffdc1eae",
   "metadata": {},
   "outputs": [
    {
     "data": {
      "text/html": [
       "<div>\n",
       "<style scoped>\n",
       "    .dataframe tbody tr th:only-of-type {\n",
       "        vertical-align: middle;\n",
       "    }\n",
       "\n",
       "    .dataframe tbody tr th {\n",
       "        vertical-align: top;\n",
       "    }\n",
       "\n",
       "    .dataframe thead th {\n",
       "        text-align: right;\n",
       "    }\n",
       "</style>\n",
       "<table border=\"1\" class=\"dataframe\">\n",
       "  <thead>\n",
       "    <tr style=\"text-align: right;\">\n",
       "      <th></th>\n",
       "      <th>actual</th>\n",
       "      <th>pred</th>\n",
       "    </tr>\n",
       "  </thead>\n",
       "  <tbody>\n",
       "    <tr>\n",
       "      <th>11832</th>\n",
       "      <td>0.07</td>\n",
       "      <td>0.070387</td>\n",
       "    </tr>\n",
       "    <tr>\n",
       "      <th>14655</th>\n",
       "      <td>0.03</td>\n",
       "      <td>0.020379</td>\n",
       "    </tr>\n",
       "    <tr>\n",
       "      <th>9669</th>\n",
       "      <td>0.12</td>\n",
       "      <td>0.120390</td>\n",
       "    </tr>\n",
       "    <tr>\n",
       "      <th>7862</th>\n",
       "      <td>0.19</td>\n",
       "      <td>0.190367</td>\n",
       "    </tr>\n",
       "    <tr>\n",
       "      <th>9059</th>\n",
       "      <td>0.14</td>\n",
       "      <td>0.140359</td>\n",
       "    </tr>\n",
       "    <tr>\n",
       "      <th>...</th>\n",
       "      <td>...</td>\n",
       "      <td>...</td>\n",
       "    </tr>\n",
       "    <tr>\n",
       "      <th>9542</th>\n",
       "      <td>0.13</td>\n",
       "      <td>0.120360</td>\n",
       "    </tr>\n",
       "    <tr>\n",
       "      <th>2425</th>\n",
       "      <td>0.86</td>\n",
       "      <td>0.850336</td>\n",
       "    </tr>\n",
       "    <tr>\n",
       "      <th>5766</th>\n",
       "      <td>0.31</td>\n",
       "      <td>0.310382</td>\n",
       "    </tr>\n",
       "    <tr>\n",
       "      <th>15702</th>\n",
       "      <td>0.02</td>\n",
       "      <td>0.020376</td>\n",
       "    </tr>\n",
       "    <tr>\n",
       "      <th>1608</th>\n",
       "      <td>1.24</td>\n",
       "      <td>1.240309</td>\n",
       "    </tr>\n",
       "  </tbody>\n",
       "</table>\n",
       "<p>1660 rows × 2 columns</p>\n",
       "</div>"
      ],
      "text/plain": [
       "       actual      pred\n",
       "11832    0.07  0.070387\n",
       "14655    0.03  0.020379\n",
       "9669     0.12  0.120390\n",
       "7862     0.19  0.190367\n",
       "9059     0.14  0.140359\n",
       "...       ...       ...\n",
       "9542     0.13  0.120360\n",
       "2425     0.86  0.850336\n",
       "5766     0.31  0.310382\n",
       "15702    0.02  0.020376\n",
       "1608     1.24  1.240309\n",
       "\n",
       "[1660 rows x 2 columns]"
      ]
     },
     "execution_count": 46,
     "metadata": {},
     "output_type": "execute_result"
    }
   ],
   "source": [
    "pd.DataFrame(data_res)"
   ]
  }
 ],
 "metadata": {
  "kernelspec": {
   "display_name": "Python 3 (ipykernel)",
   "language": "python",
   "name": "python3"
  },
  "language_info": {
   "codemirror_mode": {
    "name": "ipython",
    "version": 3
   },
   "file_extension": ".py",
   "mimetype": "text/x-python",
   "name": "python",
   "nbconvert_exporter": "python",
   "pygments_lexer": "ipython3",
   "version": "3.10.8"
  }
 },
 "nbformat": 4,
 "nbformat_minor": 5
}
